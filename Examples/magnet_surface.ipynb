{
 "cells": [
  {
   "cell_type": "code",
   "execution_count": 1,
   "metadata": {},
   "outputs": [
    {
     "name": "stderr",
     "output_type": "stream",
     "text": [
      "WARNING:root:Mayavi not found. 3D plots will not work.\n"
     ]
    },
    {
     "name": "stdout",
     "output_type": "stream",
     "text": [
      "[2024-06-26 20:42:07.635] [info] Found python version 3 at /opt/Coreform-Cubit-2023.11/bin/python3/libcubit_python3.so\n",
      "[2024-06-26 20:42:07.635] [info] Looking for Python\n",
      "[2024-06-26 20:42:07.635] [info] Version 3 interpreter found\n",
      "[2024-06-26 20:42:07.638] [info] RLM session initialized\n"
     ]
    },
    {
     "name": "stderr",
     "output_type": "stream",
     "text": [
      "QObject::startTimer: Timers can only be used with threads started with QThread\n",
      "QObject::startTimer: Timers can only be used with threads started with QThread\n",
      "QObject::startTimer: Timers can only be used with threads started with QThread\n",
      "QObject::startTimer: Timers can only be used with threads started with QThread\n",
      "QObject::startTimer: Timers can only be used with threads started with QThread\n"
     ]
    },
    {
     "name": "stdout",
     "output_type": "stream",
     "text": [
      "Loading command plugins from /opt/Coreform-Cubit-2023.11/bin/plugins\n",
      "Loaded Svalinn plugin.\n",
      "-- DAGMC export command available.\n",
      "-- MCNP import command available.\n"
     ]
    }
   ],
   "source": [
    "import parastell.parastell as ps\n",
    "import parastell.magnet_coils as magnet_coils\n",
    "import parastell.invessel_build as ivb\n",
    "import numpy as np\n",
    "import src.pystell.read_vmec as read_vmec\n",
    "from parastell.cubit_io import init_cubit\n",
    "import cubit\n",
    "\n",
    "init_cubit()\n",
    "\n",
    "def shrink_matrix(mat, column_step, row_step):\n",
    "    \"\"\"\n",
    "    removes rows and columns from a matrix,\n",
    "    keeps first and last columns and rows.\n",
    "    # of columns and rows should be evenly divisible by the step size,\n",
    "    respectively\n",
    "    \"\"\"\n",
    "    if len(mat.shape) == 1:\n",
    "        mat = np.hstack((mat, mat[-1]))\n",
    "        mat = mat[::column_step]\n",
    "        return mat\n",
    "    else:\n",
    "        mat = np.hstack((mat, mat[:, -1].reshape(-1, 1)))\n",
    "        mat = np.vstack((mat, mat[-1, :]))\n",
    "        mat = mat[:, ::column_step]\n",
    "        mat = mat[::row_step]\n",
    "        return mat\n"
   ]
  },
  {
   "cell_type": "code",
   "execution_count": 2,
   "metadata": {},
   "outputs": [
    {
     "name": "stdout",
     "output_type": "stream",
     "text": [
      "[[1090.19744173  648.10306047   -3.48054498]\n",
      " [1084.54105656  646.11602031    5.13982361]\n",
      " [1077.90108477  644.54179036   13.94808739]\n",
      " ...\n",
      " [1098.02342925  653.32219556  -20.26253828]\n",
      " [1094.72823786  650.50925454  -11.93962402]\n",
      " [1090.19744173  648.10306047   -3.48054498]]\n",
      "[[1090.19744173  648.10306047   -3.48054498]\n",
      " [1084.54105656  646.11602031    5.13982361]\n",
      " [1077.90108477  644.54179036   13.94808739]\n",
      " ...\n",
      " [1098.02342925  653.32219556  -20.26253828]\n",
      " [1094.72823786  650.50925454  -11.93962402]\n",
      " [1090.19744173  648.10306047   -3.48054498]]\n"
     ]
    }
   ],
   "source": [
    "\n",
    "\n",
    "coils_file = 'coils_wistelld.txt'\n",
    "circ_cross_section = ['circle', 25]\n",
    "toroidal_extent = 90.0\n",
    "\n",
    "coils = magnet_coils.MagnetSet(coils_file, circ_cross_section, toroidal_extent)\n",
    "coils._extract_filaments()\n",
    "coils._set_average_radial_distance()\n",
    "coils._set_filtered_filaments()\n",
    "\n",
    "filtered_filaments = coils.filtered_filaments\n",
    "\n",
    "coils.build_coil_surface()\n",
    "\n"
   ]
  },
  {
   "cell_type": "code",
   "execution_count": 3,
   "metadata": {},
   "outputs": [
    {
     "name": "stdout",
     "output_type": "stream",
     "text": [
      "14:38:26: Constructing radial build...\n",
      "14:38:26: Populating surface objects for in-vessel components...\n",
      "14:38:29: Computing point cloud for in-vessel components...\n"
     ]
    },
    {
     "data": {
      "text/plain": [
       "(72,)"
      ]
     },
     "execution_count": 3,
     "metadata": {},
     "output_type": "execute_result"
    }
   ],
   "source": [
    "\n",
    "\n",
    "# Define directory to export all output files to\n",
    "export_dir = ''\n",
    "# Define plasma equilibrium VMEC file\n",
    "vmec_file = 'plasma_wistelld.nc'\n",
    "\n",
    "vmec = read_vmec.VMECData(vmec_file)\n",
    "\n",
    "# Define build parameters for in-vessel components\n",
    "toroidal_angles = np.linspace(0, 90, 72)\n",
    "poloidal_angles = np.linspace(0,360,96)\n",
    "wall_s = 1.08\n",
    "\n",
    "# Define a matrix of uniform unit thickness\n",
    "uniform_unit_thickness = np.ones((len(toroidal_angles), len(poloidal_angles)))\n",
    "\n",
    "radial_build_dict = {}\n",
    "\n",
    "radial_build = ivb.RadialBuild(toroidal_angles, poloidal_angles, wall_s, radial_build_dict)\n",
    "build = ivb.InVesselBuild(vmec, radial_build, split_chamber = False)\n",
    "build.populate_surfaces()\n",
    "build.calculate_loci()\n",
    "build._poloidal_angles_exp.shape\n",
    "build._toroidal_angles_exp.shape"
   ]
  },
  {
   "cell_type": "markdown",
   "metadata": {},
   "source": []
  },
  {
   "cell_type": "code",
   "execution_count": 4,
   "metadata": {},
   "outputs": [
    {
     "data": {
      "text/plain": [
       "72"
      ]
     },
     "execution_count": 4,
     "metadata": {},
     "output_type": "execute_result"
    }
   ],
   "source": [
    "loci = build.get_loci()[0]\n",
    "ribs = build.Surfaces['chamber'].Ribs\n",
    "len(ribs)"
   ]
  },
  {
   "cell_type": "code",
   "execution_count": 5,
   "metadata": {},
   "outputs": [
    {
     "name": "stdout",
     "output_type": "stream",
     "text": [
      "<parastell.invessel_build.Rib object at 0x7265aaac4190>\n",
      "<parastell.invessel_build.Rib object at 0x7265a9455a50>\n",
      "<parastell.invessel_build.Rib object at 0x7265a92a1950>\n",
      "<parastell.invessel_build.Rib object at 0x7265a54ea510>\n",
      "<parastell.invessel_build.Rib object at 0x7265a54eb310>\n",
      "<parastell.invessel_build.Rib object at 0x7265a5501a50>\n",
      "<parastell.invessel_build.Rib object at 0x7265a5502ad0>\n",
      "<parastell.invessel_build.Rib object at 0x7265a5503610>\n",
      "<parastell.invessel_build.Rib object at 0x7265a5502710>\n",
      "<parastell.invessel_build.Rib object at 0x7265a5503690>\n",
      "<parastell.invessel_build.Rib object at 0x7265a5503450>\n",
      "<parastell.invessel_build.Rib object at 0x7265a55031d0>\n",
      "<parastell.invessel_build.Rib object at 0x7265a5503810>\n",
      "<parastell.invessel_build.Rib object at 0x7265a55037d0>\n",
      "<parastell.invessel_build.Rib object at 0x7265a5503710>\n",
      "<parastell.invessel_build.Rib object at 0x7265a5503550>\n",
      "<parastell.invessel_build.Rib object at 0x7265a5503850>\n",
      "<parastell.invessel_build.Rib object at 0x7265a5503890>\n",
      "<parastell.invessel_build.Rib object at 0x7265a5503790>\n",
      "<parastell.invessel_build.Rib object at 0x7265a55038d0>\n",
      "<parastell.invessel_build.Rib object at 0x7265a5503910>\n",
      "<parastell.invessel_build.Rib object at 0x7265a5503950>\n",
      "<parastell.invessel_build.Rib object at 0x7265a5503990>\n",
      "<parastell.invessel_build.Rib object at 0x7265a55039d0>\n",
      "<parastell.invessel_build.Rib object at 0x7265a5503a10>\n",
      "<parastell.invessel_build.Rib object at 0x7265a5503a50>\n",
      "<parastell.invessel_build.Rib object at 0x7265a5503a90>\n",
      "<parastell.invessel_build.Rib object at 0x7265a5503ad0>\n",
      "<parastell.invessel_build.Rib object at 0x7265a5503b10>\n",
      "<parastell.invessel_build.Rib object at 0x7265a5503b50>\n",
      "<parastell.invessel_build.Rib object at 0x7265a5503b90>\n",
      "<parastell.invessel_build.Rib object at 0x7265a5503bd0>\n",
      "<parastell.invessel_build.Rib object at 0x7265a5503c10>\n",
      "<parastell.invessel_build.Rib object at 0x7265a5503c50>\n",
      "<parastell.invessel_build.Rib object at 0x7265a5503c90>\n",
      "<parastell.invessel_build.Rib object at 0x7265a5503cd0>\n",
      "<parastell.invessel_build.Rib object at 0x7265a5503d10>\n",
      "<parastell.invessel_build.Rib object at 0x7265a5503d50>\n",
      "<parastell.invessel_build.Rib object at 0x7265a5503d90>\n",
      "<parastell.invessel_build.Rib object at 0x7265a5503dd0>\n",
      "<parastell.invessel_build.Rib object at 0x7265a5503e10>\n",
      "<parastell.invessel_build.Rib object at 0x7265a5503e50>\n",
      "<parastell.invessel_build.Rib object at 0x7265a5503e90>\n",
      "<parastell.invessel_build.Rib object at 0x7265a5503ed0>\n",
      "<parastell.invessel_build.Rib object at 0x7265a5503f10>\n",
      "<parastell.invessel_build.Rib object at 0x7265a5503f50>\n",
      "<parastell.invessel_build.Rib object at 0x7265a5503f90>\n",
      "<parastell.invessel_build.Rib object at 0x7265a5503fd0>\n",
      "<parastell.invessel_build.Rib object at 0x7266a66d3550>\n",
      "<parastell.invessel_build.Rib object at 0x7266a66d3690>\n",
      "<parastell.invessel_build.Rib object at 0x7266a66d3a10>\n",
      "<parastell.invessel_build.Rib object at 0x7266a66d3d10>\n",
      "<parastell.invessel_build.Rib object at 0x7266a66d3590>\n",
      "<parastell.invessel_build.Rib object at 0x7266a66d15d0>\n",
      "<parastell.invessel_build.Rib object at 0x7266a66d1850>\n",
      "<parastell.invessel_build.Rib object at 0x7266a66d1cd0>\n",
      "<parastell.invessel_build.Rib object at 0x7266a66d04d0>\n",
      "<parastell.invessel_build.Rib object at 0x7266a66d0650>\n",
      "<parastell.invessel_build.Rib object at 0x7266a66d00d0>\n",
      "<parastell.invessel_build.Rib object at 0x7266a66d05d0>\n",
      "<parastell.invessel_build.Rib object at 0x7266a66d1ed0>\n",
      "<parastell.invessel_build.Rib object at 0x7266a66d0290>\n",
      "<parastell.invessel_build.Rib object at 0x7266a66d0390>\n",
      "<parastell.invessel_build.Rib object at 0x7266a66d0a10>\n",
      "<parastell.invessel_build.Rib object at 0x7266a66d0850>\n",
      "<parastell.invessel_build.Rib object at 0x7266a66d2e90>\n",
      "<parastell.invessel_build.Rib object at 0x7266a66d3150>\n",
      "<parastell.invessel_build.Rib object at 0x7266a66d33d0>\n",
      "<parastell.invessel_build.Rib object at 0x7266a66d3910>\n",
      "<parastell.invessel_build.Rib object at 0x7265a0e74050>\n",
      "<parastell.invessel_build.Rib object at 0x7265a0e74090>\n",
      "<parastell.invessel_build.Rib object at 0x7265a0e740d0>\n"
     ]
    }
   ],
   "source": [
    "distances = []\n",
    "for rib in ribs:\n",
    "    print(rib)\n",
    "    distance_subset = []\n",
    "    for point, direction in zip(rib.rib_loci, rib._normals()):\n",
    "        cubit.cmd(f\"create vertex {point[0]} {point[1]} {point[2]}\")\n",
    "        vertex_id = max(cubit.get_entities(\"vertex\"))\n",
    "        cubit.cmd(f'create curve location at vertex {vertex_id} location fire ray location at vertex {vertex_id} direction {direction[0]} {direction[1]} {direction[2]} at surface all maximum hits 1')\n",
    "        curve_id = max(cubit.get_entities('curve'))\n",
    "        distance = cubit.get_curve_length(curve_id)\n",
    "        distance_subset.append(distance)\n",
    "    distances.append(distance_subset)"
   ]
  },
  {
   "cell_type": "code",
   "execution_count": 6,
   "metadata": {},
   "outputs": [
    {
     "data": {
      "text/plain": [
       "True"
      ]
     },
     "execution_count": 6,
     "metadata": {},
     "output_type": "execute_result"
    }
   ],
   "source": [
    "cubit.cmd('save cub5 \"point_cloud.cub5\" overwrite')"
   ]
  },
  {
   "cell_type": "code",
   "execution_count": 8,
   "metadata": {},
   "outputs": [],
   "source": [
    "### now for every loci I need to determine the direction to offset in\n",
    "### do the raytracing\n",
    "### store the distance in a matrix the same shape as the one with the vertexes in it"
   ]
  },
  {
   "cell_type": "code",
   "execution_count": 9,
   "metadata": {},
   "outputs": [
    {
     "name": "stdout",
     "output_type": "stream",
     "text": [
      "(72, 96)\n"
     ]
    },
    {
     "data": {
      "text/plain": [
       "(37, 49)"
      ]
     },
     "execution_count": 9,
     "metadata": {},
     "output_type": "execute_result"
    }
   ],
   "source": [
    "thickness_matrix = np.array(distances)\n",
    "print(thickness_matrix.shape)\n",
    "shrunk_matrix = shrink_matrix(thickness_matrix, 2, 2)\n",
    "shrunk_matrix.shape"
   ]
  },
  {
   "cell_type": "code",
   "execution_count": 10,
   "metadata": {},
   "outputs": [
    {
     "data": {
      "text/plain": [
       "79.44030909451543"
      ]
     },
     "execution_count": 10,
     "metadata": {},
     "output_type": "execute_result"
    }
   ],
   "source": [
    "thickness_matrix.shape\n",
    "# weird that this shape doesn't match\n",
    "\n",
    "import pandas as pd \n",
    "df = pd.DataFrame(shrunk_matrix)\n",
    "df.to_csv('data2.csv')\n",
    "\n",
    "min(thickness_matrix.flatten())"
   ]
  },
  {
   "cell_type": "code",
   "execution_count": 11,
   "metadata": {},
   "outputs": [
    {
     "name": "stdout",
     "output_type": "stream",
     "text": [
      "[ 0.          2.53521127  5.07042254  7.6056338  10.14084507 12.67605634\n",
      " 15.21126761 17.74647887 20.28169014 22.81690141 25.35211268 27.88732394\n",
      " 30.42253521 32.95774648 35.49295775 38.02816901 40.56338028 43.09859155\n",
      " 45.63380282 48.16901408 50.70422535 53.23943662 55.77464789 58.30985915\n",
      " 60.84507042 63.38028169 65.91549296 68.45070423 70.98591549 73.52112676\n",
      " 76.05633803 78.5915493  81.12676056 83.66197183 86.1971831  88.73239437\n",
      " 90.        ]\n",
      "[  0.           7.57894737  15.15789474  22.73684211  30.31578947\n",
      "  37.89473684  45.47368421  53.05263158  60.63157895  68.21052632\n",
      "  75.78947368  83.36842105  90.94736842  98.52631579 106.10526316\n",
      " 113.68421053 121.26315789 128.84210526 136.42105263 144.\n",
      " 151.57894737 159.15789474 166.73684211 174.31578947 181.89473684\n",
      " 189.47368421 197.05263158 204.63157895 212.21052632 219.78947368\n",
      " 227.36842105 234.94736842 242.52631579 250.10526316 257.68421053\n",
      " 265.26315789 272.84210526 280.42105263 288.         295.57894737\n",
      " 303.15789474 310.73684211 318.31578947 325.89473684 333.47368421\n",
      " 341.05263158 348.63157895 356.21052632 360.        ]\n"
     ]
    },
    {
     "ename": "",
     "evalue": "",
     "output_type": "error",
     "traceback": [
      "\u001b[1;31mThe Kernel crashed while executing code in the current cell or a previous cell. \n",
      "\u001b[1;31mPlease review the code in the cell(s) to identify a possible cause of the failure. \n",
      "\u001b[1;31mClick <a href='https://aka.ms/vscodeJupyterKernelCrash'>here</a> for more info. \n",
      "\u001b[1;31mView Jupyter <a href='command:jupyter.viewOutput'>log</a> for further details."
     ]
    }
   ],
   "source": [
    "num_phi = thickness_matrix.shape[0]\n",
    "num_theta = thickness_matrix.shape[1]\n",
    "\n",
    "toroidal_angles = shrink_matrix(np.rad2deg(build._toroidal_angles_exp), 2,2)\n",
    "poloidal_angles = shrink_matrix(np.rad2deg(build._poloidal_angles_exp), 2,2)\n",
    "\n",
    "print(toroidal_angles)\n",
    "print(poloidal_angles)\n"
   ]
  },
  {
   "cell_type": "code",
   "execution_count": 12,
   "metadata": {},
   "outputs": [
    {
     "name": "stdout",
     "output_type": "stream",
     "text": [
      "14:29:03: Constructing radial build...\n",
      "14:29:03: Populating surface objects for in-vessel components...\n",
      "14:29:11: Computing point cloud for in-vessel components...\n",
      "14:29:11: Constructing CadQuery objects for in-vessel components...\n"
     ]
    }
   ],
   "source": [
    "\n",
    "# Instantiate ParaStell build\n",
    "stellarator = ps.Stellarator(vmec_file)\n",
    "\n",
    "radial_build_dict = {\n",
    "    'radial_real_estate': {\n",
    "        'thickness_matrix': shrunk_matrix\n",
    "    }\n",
    "}\n",
    "\n",
    "stellarator.construct_invessel_build(\n",
    "    toroidal_angles,\n",
    "    poloidal_angles,\n",
    "    wall_s,\n",
    "    radial_build_dict,\n",
    "    num_ribs = num_phi,\n",
    "    num_rib_pts = num_theta,\n",
    "\n",
    ")\n",
    "\n",
    "stellarator.export_invessel_build(\n",
    "    export_cad_to_dagmc=False,\n",
    "    export_dir=export_dir\n",
    ")"
   ]
  },
  {
   "cell_type": "code",
   "execution_count": null,
   "metadata": {},
   "outputs": [],
   "source": [
    "ribs = stellarator.invessel_build.Surfaces['radial_real_estate'].Ribs"
   ]
  },
  {
   "cell_type": "code",
   "execution_count": null,
   "metadata": {},
   "outputs": [
    {
     "data": {
      "text/plain": [
       "True"
      ]
     },
     "execution_count": 10,
     "metadata": {},
     "output_type": "execute_result"
    }
   ],
   "source": [
    "cubit.cmd('reset')"
   ]
  },
  {
   "cell_type": "code",
   "execution_count": null,
   "metadata": {},
   "outputs": [
    {
     "name": "stdout",
     "output_type": "stream",
     "text": [
      "<parastell.invessel_build.Rib object at 0x792734457e50>\n",
      "<parastell.invessel_build.Rib object at 0x792734457e90>\n",
      "<parastell.invessel_build.Rib object at 0x792734457ed0>\n",
      "<parastell.invessel_build.Rib object at 0x792734457f10>\n",
      "<parastell.invessel_build.Rib object at 0x792734457f50>\n",
      "<parastell.invessel_build.Rib object at 0x792734457fd0>\n",
      "<parastell.invessel_build.Rib object at 0x792738678050>\n",
      "<parastell.invessel_build.Rib object at 0x792738678090>\n",
      "<parastell.invessel_build.Rib object at 0x7927386780d0>\n",
      "<parastell.invessel_build.Rib object at 0x792734457f90>\n",
      "<parastell.invessel_build.Rib object at 0x792738678110>\n",
      "<parastell.invessel_build.Rib object at 0x792738678150>\n",
      "<parastell.invessel_build.Rib object at 0x792738678190>\n",
      "<parastell.invessel_build.Rib object at 0x7927386781d0>\n",
      "<parastell.invessel_build.Rib object at 0x792738678210>\n",
      "<parastell.invessel_build.Rib object at 0x792738678250>\n",
      "<parastell.invessel_build.Rib object at 0x792738678290>\n",
      "<parastell.invessel_build.Rib object at 0x7927386782d0>\n",
      "<parastell.invessel_build.Rib object at 0x792738678310>\n",
      "<parastell.invessel_build.Rib object at 0x792738678350>\n",
      "<parastell.invessel_build.Rib object at 0x792738678390>\n",
      "<parastell.invessel_build.Rib object at 0x7927386783d0>\n",
      "<parastell.invessel_build.Rib object at 0x792738678410>\n",
      "<parastell.invessel_build.Rib object at 0x792738678450>\n",
      "<parastell.invessel_build.Rib object at 0x792738678490>\n",
      "<parastell.invessel_build.Rib object at 0x7927386784d0>\n",
      "<parastell.invessel_build.Rib object at 0x792738678510>\n",
      "<parastell.invessel_build.Rib object at 0x792738678550>\n",
      "<parastell.invessel_build.Rib object at 0x792738678590>\n",
      "<parastell.invessel_build.Rib object at 0x7927386785d0>\n",
      "<parastell.invessel_build.Rib object at 0x792738678610>\n",
      "<parastell.invessel_build.Rib object at 0x792738678650>\n",
      "<parastell.invessel_build.Rib object at 0x792738678690>\n",
      "<parastell.invessel_build.Rib object at 0x7927386786d0>\n",
      "<parastell.invessel_build.Rib object at 0x792738678710>\n",
      "<parastell.invessel_build.Rib object at 0x792738678750>\n",
      "<parastell.invessel_build.Rib object at 0x792738678790>\n",
      "<parastell.invessel_build.Rib object at 0x7927386787d0>\n",
      "<parastell.invessel_build.Rib object at 0x792738678810>\n",
      "<parastell.invessel_build.Rib object at 0x792738678850>\n",
      "<parastell.invessel_build.Rib object at 0x792738678890>\n",
      "<parastell.invessel_build.Rib object at 0x7927386788d0>\n",
      "<parastell.invessel_build.Rib object at 0x792738678910>\n",
      "<parastell.invessel_build.Rib object at 0x792738678950>\n",
      "<parastell.invessel_build.Rib object at 0x792738678990>\n",
      "<parastell.invessel_build.Rib object at 0x7927386789d0>\n",
      "<parastell.invessel_build.Rib object at 0x792738678a10>\n",
      "<parastell.invessel_build.Rib object at 0x792738678a50>\n",
      "<parastell.invessel_build.Rib object at 0x792738678a90>\n",
      "<parastell.invessel_build.Rib object at 0x792738678ad0>\n",
      "<parastell.invessel_build.Rib object at 0x792738678b10>\n",
      "<parastell.invessel_build.Rib object at 0x792738678b50>\n",
      "<parastell.invessel_build.Rib object at 0x792738678b90>\n",
      "<parastell.invessel_build.Rib object at 0x792738678bd0>\n",
      "<parastell.invessel_build.Rib object at 0x792738678c10>\n",
      "<parastell.invessel_build.Rib object at 0x792738678c50>\n",
      "<parastell.invessel_build.Rib object at 0x792738678c90>\n",
      "<parastell.invessel_build.Rib object at 0x792738678cd0>\n",
      "<parastell.invessel_build.Rib object at 0x792738678d10>\n",
      "<parastell.invessel_build.Rib object at 0x792738678d50>\n",
      "<parastell.invessel_build.Rib object at 0x792738678d90>\n",
      "<parastell.invessel_build.Rib object at 0x792738678dd0>\n",
      "<parastell.invessel_build.Rib object at 0x792738678e10>\n",
      "<parastell.invessel_build.Rib object at 0x792738678e50>\n",
      "<parastell.invessel_build.Rib object at 0x792738678e90>\n",
      "<parastell.invessel_build.Rib object at 0x792738678ed0>\n",
      "<parastell.invessel_build.Rib object at 0x792738678f10>\n",
      "<parastell.invessel_build.Rib object at 0x792738678f50>\n",
      "<parastell.invessel_build.Rib object at 0x792738678f90>\n",
      "<parastell.invessel_build.Rib object at 0x792738678fd0>\n",
      "<parastell.invessel_build.Rib object at 0x792738679010>\n",
      "<parastell.invessel_build.Rib object at 0x792738679050>\n",
      "<parastell.invessel_build.Rib object at 0x792738679090>\n",
      "<parastell.invessel_build.Rib object at 0x7927386790d0>\n",
      "<parastell.invessel_build.Rib object at 0x792738679110>\n",
      "<parastell.invessel_build.Rib object at 0x792738679150>\n"
     ]
    }
   ],
   "source": [
    "for rib in ribs:\n",
    "    print(rib)\n",
    "    distance_subset = []\n",
    "    for point, direction in zip(rib.rib_loci, rib._normals()):\n",
    "        cubit.cmd(f\"create vertex {point[0]} {point[1]} {point[2]}\")\n",
    "        vertex_id = max(cubit.get_entities(\"vertex\"))"
   ]
  },
  {
   "cell_type": "code",
   "execution_count": null,
   "metadata": {},
   "outputs": [
    {
     "data": {
      "text/plain": [
       "True"
      ]
     },
     "execution_count": 12,
     "metadata": {},
     "output_type": "execute_result"
    }
   ],
   "source": [
    "cubit.cmd('save cub5 \"point_cloud.cub5\" overwrite')"
   ]
  },
  {
   "cell_type": "code",
   "execution_count": null,
   "metadata": {},
   "outputs": [],
   "source": []
  }
 ],
 "metadata": {
  "kernelspec": {
   "display_name": "pse",
   "language": "python",
   "name": "python3"
  },
  "language_info": {
   "codemirror_mode": {
    "name": "ipython",
    "version": 3
   },
   "file_extension": ".py",
   "mimetype": "text/x-python",
   "name": "python",
   "nbconvert_exporter": "python",
   "pygments_lexer": "ipython3",
   "version": "3.11.6"
  }
 },
 "nbformat": 4,
 "nbformat_minor": 2
}
