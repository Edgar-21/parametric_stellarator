{
 "cells": [
  {
   "cell_type": "code",
   "execution_count": 14,
   "metadata": {},
   "outputs": [],
   "source": [
    "import parastell.parastell as ps\n",
    "import parastell.magnet_coils as magnet_coils\n",
    "import parastell.invessel_build as ivb\n",
    "import numpy as np\n",
    "import pystell.read_vmec as read_vmec\n",
    "from parastell.cubit_io import init_cubit\n",
    "import cubit\n",
    "from plotContour import plotContour\n",
    "\n",
    "\n",
    "init_cubit()\n"
   ]
  },
  {
   "cell_type": "code",
   "execution_count": 2,
   "metadata": {},
   "outputs": [
    {
     "name": "stdout",
     "output_type": "stream",
     "text": [
      "14:39:07: Exporting STEP file for magnet coils...\n"
     ]
    }
   ],
   "source": [
    "\n",
    "\n",
    "coils_file = 'coils_wistelld.txt'\n",
    "circ_cross_section = ['circle', 25]\n",
    "toroidal_extent = 90.0\n",
    "\n",
    "coils = magnet_coils.MagnetSet(coils_file, circ_cross_section, toroidal_extent)\n",
    "coils._extract_filaments()\n",
    "coils._set_average_radial_distance()\n",
    "coils._set_filtered_filaments()\n",
    "\n",
    "filtered_filaments = coils.filtered_filaments\n",
    "\n",
    "coils.build_coil_surface()\n",
    "coils.export_step('magnet_surface.step')\n",
    "\n"
   ]
  },
  {
   "cell_type": "code",
   "execution_count": 3,
   "metadata": {},
   "outputs": [
    {
     "name": "stdout",
     "output_type": "stream",
     "text": [
      "14:39:26: Constructing radial build...\n",
      "14:39:26: Populating surface objects for in-vessel components...\n",
      "14:39:29: Computing point cloud for in-vessel components...\n"
     ]
    },
    {
     "data": {
      "text/plain": [
       "(72,)"
      ]
     },
     "execution_count": 3,
     "metadata": {},
     "output_type": "execute_result"
    }
   ],
   "source": [
    "\n",
    "\n",
    "# Define directory to export all output files to\n",
    "export_dir = ''\n",
    "# Define plasma equilibrium VMEC file\n",
    "vmec_file = 'plasma_wistelld.nc'\n",
    "\n",
    "vmec = read_vmec.VMECData(vmec_file)\n",
    "\n",
    "# Define build parameters for in-vessel components\n",
    "toroidal_angles = np.linspace(0, 90, 72)\n",
    "poloidal_angles = np.linspace(0,360,96)\n",
    "wall_s = 1.08\n",
    "\n",
    "# Define a matrix of uniform unit thickness\n",
    "uniform_unit_thickness = np.ones((len(toroidal_angles), len(poloidal_angles)))\n",
    "\n",
    "radial_build_dict = {}\n",
    "\n",
    "radial_build = ivb.RadialBuild(toroidal_angles, poloidal_angles, wall_s, radial_build_dict)\n",
    "build = ivb.InVesselBuild(vmec, radial_build, split_chamber = False)\n",
    "build.populate_surfaces()\n",
    "build.calculate_loci()\n",
    "build._poloidal_angles_exp.shape\n",
    "build._toroidal_angles_exp.shape"
   ]
  },
  {
   "cell_type": "code",
   "execution_count": 4,
   "metadata": {},
   "outputs": [
    {
     "data": {
      "text/plain": [
       "72"
      ]
     },
     "execution_count": 4,
     "metadata": {},
     "output_type": "execute_result"
    }
   ],
   "source": [
    "loci = build.get_loci()[0]\n",
    "ribs = build.Surfaces['chamber'].Ribs\n",
    "len(ribs)"
   ]
  },
  {
   "cell_type": "code",
   "execution_count": 5,
   "metadata": {},
   "outputs": [
    {
     "name": "stdout",
     "output_type": "stream",
     "text": [
      "<parastell.invessel_build.Rib object at 0x7f26a4ba3c50>\n",
      "<parastell.invessel_build.Rib object at 0x7f26a1b54fd0>\n",
      "<parastell.invessel_build.Rib object at 0x7f269ebaa5d0>\n",
      "<parastell.invessel_build.Rib object at 0x7f269ebaa590>\n",
      "<parastell.invessel_build.Rib object at 0x7f269eba9d10>\n",
      "<parastell.invessel_build.Rib object at 0x7f2698c75290>\n",
      "<parastell.invessel_build.Rib object at 0x7f2698c75e90>\n",
      "<parastell.invessel_build.Rib object at 0x7f2698c74650>\n",
      "<parastell.invessel_build.Rib object at 0x7f2698c75710>\n",
      "<parastell.invessel_build.Rib object at 0x7f269ebab690>\n",
      "<parastell.invessel_build.Rib object at 0x7f2698c75250>\n",
      "<parastell.invessel_build.Rib object at 0x7f2698c75410>\n",
      "<parastell.invessel_build.Rib object at 0x7f2698c74fd0>\n",
      "<parastell.invessel_build.Rib object at 0x7f2698c74b90>\n",
      "<parastell.invessel_build.Rib object at 0x7f2698c74790>\n",
      "<parastell.invessel_build.Rib object at 0x7f2698c74950>\n",
      "<parastell.invessel_build.Rib object at 0x7f2698c75bd0>\n",
      "<parastell.invessel_build.Rib object at 0x7f2698c76810>\n",
      "<parastell.invessel_build.Rib object at 0x7f2698c76790>\n",
      "<parastell.invessel_build.Rib object at 0x7f2698c76750>\n",
      "<parastell.invessel_build.Rib object at 0x7f2698c76510>\n",
      "<parastell.invessel_build.Rib object at 0x7f2698c76850>\n",
      "<parastell.invessel_build.Rib object at 0x7f2698c76890>\n",
      "<parastell.invessel_build.Rib object at 0x7f2698c768d0>\n",
      "<parastell.invessel_build.Rib object at 0x7f2698c767d0>\n",
      "<parastell.invessel_build.Rib object at 0x7f2698c76910>\n",
      "<parastell.invessel_build.Rib object at 0x7f2698c76950>\n",
      "<parastell.invessel_build.Rib object at 0x7f2698c76990>\n",
      "<parastell.invessel_build.Rib object at 0x7f2698c769d0>\n",
      "<parastell.invessel_build.Rib object at 0x7f2698c76a10>\n",
      "<parastell.invessel_build.Rib object at 0x7f2698c76a50>\n",
      "<parastell.invessel_build.Rib object at 0x7f2698c76a90>\n",
      "<parastell.invessel_build.Rib object at 0x7f2698c76ad0>\n",
      "<parastell.invessel_build.Rib object at 0x7f2698c76b10>\n",
      "<parastell.invessel_build.Rib object at 0x7f2698c76b50>\n",
      "<parastell.invessel_build.Rib object at 0x7f2698c76b90>\n",
      "<parastell.invessel_build.Rib object at 0x7f2698c76bd0>\n",
      "<parastell.invessel_build.Rib object at 0x7f2698c76c10>\n",
      "<parastell.invessel_build.Rib object at 0x7f2698c76c50>\n",
      "<parastell.invessel_build.Rib object at 0x7f2698c76c90>\n",
      "<parastell.invessel_build.Rib object at 0x7f2698c76cd0>\n",
      "<parastell.invessel_build.Rib object at 0x7f2698c76d10>\n",
      "<parastell.invessel_build.Rib object at 0x7f2698c76d50>\n",
      "<parastell.invessel_build.Rib object at 0x7f2698c76d90>\n",
      "<parastell.invessel_build.Rib object at 0x7f2698c76dd0>\n",
      "<parastell.invessel_build.Rib object at 0x7f2698c76e10>\n",
      "<parastell.invessel_build.Rib object at 0x7f2698c76e50>\n",
      "<parastell.invessel_build.Rib object at 0x7f2698c76e90>\n",
      "<parastell.invessel_build.Rib object at 0x7f2698c76ed0>\n",
      "<parastell.invessel_build.Rib object at 0x7f2698c76f10>\n",
      "<parastell.invessel_build.Rib object at 0x7f2698c76f50>\n",
      "<parastell.invessel_build.Rib object at 0x7f2698c76f90>\n",
      "<parastell.invessel_build.Rib object at 0x7f2698c76fd0>\n",
      "<parastell.invessel_build.Rib object at 0x7f2698c77010>\n",
      "<parastell.invessel_build.Rib object at 0x7f2698c77050>\n",
      "<parastell.invessel_build.Rib object at 0x7f2698c77090>\n",
      "<parastell.invessel_build.Rib object at 0x7f2698c770d0>\n",
      "<parastell.invessel_build.Rib object at 0x7f2698c77110>\n",
      "<parastell.invessel_build.Rib object at 0x7f2698c77150>\n",
      "<parastell.invessel_build.Rib object at 0x7f2698c77190>\n",
      "<parastell.invessel_build.Rib object at 0x7f2698c771d0>\n",
      "<parastell.invessel_build.Rib object at 0x7f2698c77210>\n",
      "<parastell.invessel_build.Rib object at 0x7f2698c77250>\n",
      "<parastell.invessel_build.Rib object at 0x7f2698c77290>\n",
      "<parastell.invessel_build.Rib object at 0x7f2698c772d0>\n",
      "<parastell.invessel_build.Rib object at 0x7f2698c77310>\n",
      "<parastell.invessel_build.Rib object at 0x7f2698c77350>\n",
      "<parastell.invessel_build.Rib object at 0x7f2698c77390>\n",
      "<parastell.invessel_build.Rib object at 0x7f2698c773d0>\n",
      "<parastell.invessel_build.Rib object at 0x7f2698c77410>\n",
      "<parastell.invessel_build.Rib object at 0x7f2698c77450>\n",
      "<parastell.invessel_build.Rib object at 0x7f2698c77490>\n"
     ]
    }
   ],
   "source": [
    "distances = []\n",
    "for rib in ribs:\n",
    "    print(rib)\n",
    "    distance_subset = []\n",
    "    for point, direction in zip(rib.rib_loci, rib._normals()):\n",
    "        cubit.cmd(f\"create vertex {point[0]} {point[1]} {point[2]}\")\n",
    "        vertex_id = max(cubit.get_entities(\"vertex\"))\n",
    "        cubit.cmd(f'create curve location at vertex {vertex_id} location fire ray location at vertex {vertex_id} direction {direction[0]} {direction[1]} {direction[2]} at surface all maximum hits 1')\n",
    "        curve_id = max(cubit.get_entities('curve'))\n",
    "        distance = cubit.get_curve_length(curve_id)\n",
    "        distance_subset.append(distance)\n",
    "    distances.append(distance_subset)"
   ]
  },
  {
   "cell_type": "code",
   "execution_count": 6,
   "metadata": {},
   "outputs": [
    {
     "data": {
      "text/plain": [
       "True"
      ]
     },
     "execution_count": 6,
     "metadata": {},
     "output_type": "execute_result"
    }
   ],
   "source": [
    "cubit.cmd('save cub5 \"lces.cub5\" overwrite')"
   ]
  },
  {
   "cell_type": "code",
   "execution_count": 8,
   "metadata": {},
   "outputs": [],
   "source": [
    "thickness_matrix = np.array(distances)"
   ]
  },
  {
   "cell_type": "code",
   "execution_count": 9,
   "metadata": {},
   "outputs": [
    {
     "data": {
      "text/plain": [
       "106.12068696531642"
      ]
     },
     "execution_count": 9,
     "metadata": {},
     "output_type": "execute_result"
    }
   ],
   "source": [
    "import pandas as pd \n",
    "df = pd.DataFrame(thickness_matrix)\n",
    "df.to_csv('data2.csv')\n",
    "\n",
    "min(thickness_matrix.flatten())"
   ]
  },
  {
   "cell_type": "code",
   "execution_count": 11,
   "metadata": {},
   "outputs": [
    {
     "name": "stdout",
     "output_type": "stream",
     "text": [
      "[ 0.          1.26760563  2.53521127  3.8028169   5.07042254  6.33802817\n",
      "  7.6056338   8.87323944 10.14084507 11.4084507  12.67605634 13.94366197\n",
      " 15.21126761 16.47887324 17.74647887 19.01408451 20.28169014 21.54929577\n",
      " 22.81690141 24.08450704 25.35211268 26.61971831 27.88732394 29.15492958\n",
      " 30.42253521 31.69014085 32.95774648 34.22535211 35.49295775 36.76056338\n",
      " 38.02816901 39.29577465 40.56338028 41.83098592 43.09859155 44.36619718\n",
      " 45.63380282 46.90140845 48.16901408 49.43661972 50.70422535 51.97183099\n",
      " 53.23943662 54.50704225 55.77464789 57.04225352 58.30985915 59.57746479\n",
      " 60.84507042 62.11267606 63.38028169 64.64788732 65.91549296 67.18309859\n",
      " 68.45070423 69.71830986 70.98591549 72.25352113 73.52112676 74.78873239\n",
      " 76.05633803 77.32394366 78.5915493  79.85915493 81.12676056 82.3943662\n",
      " 83.66197183 84.92957746 86.1971831  87.46478873 88.73239437 90.        ]\n",
      "[  0.           3.78947368   7.57894737  11.36842105  15.15789474\n",
      "  18.94736842  22.73684211  26.52631579  30.31578947  34.10526316\n",
      "  37.89473684  41.68421053  45.47368421  49.26315789  53.05263158\n",
      "  56.84210526  60.63157895  64.42105263  68.21052632  72.\n",
      "  75.78947368  79.57894737  83.36842105  87.15789474  90.94736842\n",
      "  94.73684211  98.52631579 102.31578947 106.10526316 109.89473684\n",
      " 113.68421053 117.47368421 121.26315789 125.05263158 128.84210526\n",
      " 132.63157895 136.42105263 140.21052632 144.         147.78947368\n",
      " 151.57894737 155.36842105 159.15789474 162.94736842 166.73684211\n",
      " 170.52631579 174.31578947 178.10526316 181.89473684 185.68421053\n",
      " 189.47368421 193.26315789 197.05263158 200.84210526 204.63157895\n",
      " 208.42105263 212.21052632 216.         219.78947368 223.57894737\n",
      " 227.36842105 231.15789474 234.94736842 238.73684211 242.52631579\n",
      " 246.31578947 250.10526316 253.89473684 257.68421053 261.47368421\n",
      " 265.26315789 269.05263158 272.84210526 276.63157895 280.42105263\n",
      " 284.21052632 288.         291.78947368 295.57894737 299.36842105\n",
      " 303.15789474 306.94736842 310.73684211 314.52631579 318.31578947\n",
      " 322.10526316 325.89473684 329.68421053 333.47368421 337.26315789\n",
      " 341.05263158 344.84210526 348.63157895 352.42105263 356.21052632\n",
      " 360.        ]\n"
     ]
    }
   ],
   "source": [
    "num_phi = thickness_matrix.shape[0]\n",
    "num_theta = thickness_matrix.shape[1]\n",
    "\n",
    "toroidal_angles = np.rad2deg(build._toroidal_angles_exp)\n",
    "poloidal_angles = np.rad2deg(build._poloidal_angles_exp)\n",
    "\n",
    "print(toroidal_angles)\n",
    "print(poloidal_angles)\n"
   ]
  },
  {
   "cell_type": "code",
   "execution_count": 15,
   "metadata": {},
   "outputs": [],
   "source": [
    "plotContour(thickness_matrix.T,toroidal_angles,poloidal_angles,'Radial Distance [CM]',\n",
    "            \"phi [deg]\", 'theta [deg]', 'SOL to Coils Distance [CM]')"
   ]
  },
  {
   "cell_type": "code",
   "execution_count": null,
   "metadata": {},
   "outputs": [],
   "source": []
  }
 ],
 "metadata": {
  "kernelspec": {
   "display_name": "pse",
   "language": "python",
   "name": "python3"
  },
  "language_info": {
   "codemirror_mode": {
    "name": "ipython",
    "version": 3
   },
   "file_extension": ".py",
   "mimetype": "text/x-python",
   "name": "python",
   "nbconvert_exporter": "python",
   "pygments_lexer": "ipython3",
   "version": "3.11.6"
  }
 },
 "nbformat": 4,
 "nbformat_minor": 2
}
